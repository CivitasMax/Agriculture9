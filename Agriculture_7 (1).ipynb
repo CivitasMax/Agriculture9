{
  "nbformat": 4,
  "nbformat_minor": 0,
  "metadata": {
    "colab": {
      "name": "Agriculture 7.ipynb",
      "provenance": []
    },
    "kernelspec": {
      "name": "python3",
      "display_name": "Python 3"
    }
  },
  "cells": [
    {
      "cell_type": "code",
      "metadata": {
        "id": "v98wSUCRkebZ",
        "colab_type": "code",
        "colab": {}
      },
      "source": [
        "import numpy as np \n",
        "import pandas as pd \n",
        "import os\n",
        "for dirname, _, filenames in os.walk('/kaggle/input'):\n",
        "    for filename in filenames:\n",
        "        print(os.path.join(dirname, filename))"
      ],
      "execution_count": 0,
      "outputs": []
    },
    {
      "cell_type": "code",
      "metadata": {
        "id": "Cc8M-cBuk00v",
        "colab_type": "code",
        "colab": {}
      },
      "source": [
        "\n",
        "import matplotlib.pyplot as plt\n",
        "import cv2\n",
        "import glob"
      ],
      "execution_count": 0,
      "outputs": []
    },
    {
      "cell_type": "code",
      "metadata": {
        "id": "-4Mk3lEvk_29",
        "colab_type": "code",
        "colab": {
          "base_uri": "https://localhost:8080/",
          "height": 101
        },
        "outputId": "b3d57b32-2232-4cd2-f55a-fbf4f1c4261c"
      },
      "source": [
        "data_dir = r'/kaggle/input/weed-detection-in-soybean-crops/dataset/dataset/' \n",
        "classes = ['broadleaf', 'grass', 'soil', 'soybean'] \n",
        "\n",
        "num_file = 1100 # the file components used Number\n",
        "all_files = []\n",
        "num_data = num_file * len(classes)\n",
        "Y = np.zeros(num_data) # Create all all output values Initialize with a 0\n",
        "\n",
        "# Go get the files\n",
        "for i, cls in enumerate(classes):\n",
        "  all_files += [f for f in glob.glob(data_dir + cls + '/*.tif')][:num_file]\n",
        "  Y[i * num_file: (i + 1) * num_file] = i # Go an label all classes with int [0.. len(classes)]\n",
        "\n",
        "image_width = 200\n",
        "image_height = 200\n",
        "image_channel = 3\n",
        "dimension = image_width * image_height * image_channel\n",
        "\n",
        "X = np.ndarray(shape=(num_data, image_width, image_height, image_channel), dtype=np.uint8) # Create an nd array\n",
        "\n",
        "for i, file in enumerate(all_files):\n",
        "  X[i] = cv2.resize(cv2.imread(file), (image_width, image_height)) # load and add all images\n",
        "\n",
        "# Split the training, create the validation and testing of the set by creating empty arrays\n",
        "X_train = np.empty(shape=(4000, image_width, image_height, image_channel), dtype=np.uint8)\n",
        "X_val = np.empty(shape=(200, image_width, image_height, image_channel), dtype=np.uint8)\n",
        "X_test = np.empty(shape=(200, image_width, image_height, image_channel), dtype=np.uint8)\n",
        "\n",
        "Y_train = np.empty(4000)\n",
        "Y_val = np.empty(200)\n",
        "Y_test = np.empty(200)\n",
        "\n",
        "# Set all x and y values\n",
        "for i, cls in enumerate(classes):\n",
        "  X_test[50 * i: 50 * (i + 1)] = X[np.where(Y == i)[0][:50]]\n",
        "  X_val[50 * i: 50 * (i + 1)] = X[np.where(Y == i)[0][50:100]]\n",
        "  X_train[1000 * i: 1000 * (i + 1)] = X[np.where(Y == i)[0][100:]]\n",
        "\n",
        "  Y_test[50 * i: 50 * (i + 1)] = i\n",
        "  Y_val[50 * i: 50 * (i + 1)] = i\n",
        "  Y_train[1000 * i: 1000 * (i + 1)] = i\n",
        "\n",
        "# Save some of the memory by deleting X and Y\n",
        "del Y\n",
        "del X\n",
        "\n",
        "# Select random x and y train data\n",
        "train_indexes = np.random.permutation(X_train.shape[0]) # Create some random indexes in the array with the length of X_train.shape[0]\n",
        "Y_train = Y_train[train_indexes].astype(int) \n",
        "X_train = X_train[train_indexes]\n",
        "\n",
        "# Reshape the train, test, val data\n",
        "X_train = np.reshape(X_train, (X_train.shape[0], -1)).astype('float64')\n",
        "X_test = np.reshape(X_test, (X_test.shape[0], -1)).astype('float64')\n",
        "X_val = np.reshape(X_val, (X_val.shape[0], -1)).astype('float64')\n",
        "\n",
        "# Create and custom a smaller dataset for testing\n",
        "X_tiny = X_train[100:110].astype('float64')\n",
        "Y_tiny = Y_train[100:110].astype(int)\n",
        "num_dev = 500\n",
        "\n",
        "# Create custom dev dataset for testing\n",
        "X_dev = X_train[0:num_dev].astype('float64')\n",
        "Y_dev = Y_train[0:num_dev].astype(int)\n",
        "\n",
        "# Compute the mean image\n",
        "mean_image = np.mean(X_train, axis=0) # axis=0. restack horizontally\n",
        "# Subtract the mean image from train and then the test data \n",
        "X_train -= mean_image\n",
        "X_val -= mean_image \n",
        "X_test -= mean_image\n",
        "X_dev -= mean_image\n",
        "X_tiny -= mean_image\n",
        "\n",
        "print(\"X_train shape\", X_train.shape)\n",
        "print(\"X_test shape\", X_test.shape)\n",
        "print(\"X_val shape\", X_val.shape)\n",
        "print(\"X_dev shape\", X_dev.shape)\n",
        "print(\"X_tiny shape\", X_tiny.shape)"
      ],
      "execution_count": 3,
      "outputs": [
        {
          "output_type": "stream",
          "text": [
            "X_train shape (4000, 120000)\n",
            "X_test shape (200, 120000)\n",
            "X_val shape (200, 120000)\n",
            "X_dev shape (500, 120000)\n",
            "X_tiny shape (10, 120000)\n"
          ],
          "name": "stdout"
        }
      ]
    },
    {
      "cell_type": "code",
      "metadata": {
        "id": "I2Jx_NbvlLXy",
        "colab_type": "code",
        "colab": {}
      },
      "source": [
        "plt.rcParams['figure.figsize'] = (12.0, 8.0)\n",
        "plt.rcParams['image.interpolation'] = 'nearest'\n",
        "plt.rcParams['image.cmap'] = 'gray'"
      ],
      "execution_count": 0,
      "outputs": []
    },
    {
      "cell_type": "code",
      "metadata": {
        "id": "aNa9m9EwlTDy",
        "colab_type": "code",
        "colab": {
          "base_uri": "https://localhost:8080/",
          "height": 499
        },
        "outputId": "1c03d701-adb2-44bb-d47c-dc4fced50850"
      },
      "source": [
        "classes = ['broadleaf', 'grass', 'soil', 'soybean']\n",
        "n_class = len(classes)\n",
        "samples_per_class = 4\n",
        "\n",
        "# Plot 4 images of each of the classes\n",
        "for Y, cls in enumerate(classes):\n",
        "  indexes = np.flatnonzero(Y == Y_train)\n",
        "  indexes = np.random.choice(indexes, samples_per_class, replace=False)\n",
        "  for i, index, in enumerate(indexes):\n",
        "    plt_index = i * n_class + Y + 1\n",
        "    plt.subplot(samples_per_class, n_class, plt_index)\n",
        "    plt.imshow(X_train[index].reshape(image_width, image_height, image_channel).astype('uint8'))\n",
        "    if i == 0: plt.title(cls)\n",
        "\n",
        "plt.show()\n"
      ],
      "execution_count": 5,
      "outputs": [
        {
          "output_type": "display_data",
          "data": {
            "image/png": "[encoded data removed]",
            "text/plain": [
              "<Figure size 864x576 with 16 Axes>"
            ]
          },
          "metadata": {
            "tags": []
          }
        }
      ]
    },
    {
      "cell_type": "code",
      "metadata": {
        "id": "9v_TLz6WlVj8",
        "colab_type": "code",
        "colab": {}
      },
      "source": [
        "class NeuralNetwork:\n",
        "  hidden_size = 200\n",
        "  input_size = image_width * image_height * image_channel\n",
        "  output_size = n_class\n",
        "\n",
        "  \"\"\"\n",
        "  w1: first layer weight\n",
        "  w2: second layer weight\n",
        "  \"\"\"\n",
        "  w1 = 1e-3 * np.random.randn(input_size, hidden_size)\n",
        "  b1 = np.zeros(hidden_size)\n",
        "  w2 = 1e-3 * np.random.randn(hidden_size, output_size)\n",
        "  b2 = np.zeros(output_size)\n",
        "    \n",
        "  alpha = 1e-5\n",
        "  batch_size = 100\n",
        "    \n",
        "  epochs = 500\n",
        "  \n",
        "  def train(self, X, Y, X_val, Y_val):\n",
        "    N, D = X.shape\n",
        "    N_val = X_val.shape[0]\n",
        "    iteration_per_epoch = max(N / self.batch_size, 1)\n",
        "\n",
        "    loss_hist = []\n",
        "    train_acc_hist = []\n",
        "    val_acc_hist = []\n",
        "    \n",
        "    for it in range(self.epochs):\n",
        "      sampling = np.random.choice(np.arange(N), self.batch_size, replace=False) # Create a random array of the data\n",
        "\n",
        "      # Getting batches for x and y\n",
        "      X_batch = X[sampling]\n",
        "      Y_batch = Y[sampling]\n",
        "\n",
        "      loss, grads = self.loss(X_batch, Y=Y_batch)\n",
        "      loss_hist.append(loss)\n",
        "\n",
        "      # Make the model learning and reshape the parameters of the network\n",
        "      self.w1 += -1.0 * self.alpha * grads['w1']\n",
        "      self.b1 += -1.0 * self.alpha * grads['b1']\n",
        "      self.w2 += -1.0 * self.alpha * grads['w2']\n",
        "      self.b2 += -1.0 * self.alpha * grads['b2']\n",
        "\n",
        "      if it % 10 == 0:\n",
        "        print('iteration: %d / %d | Loss: %f' % (it, self.epochs, loss))\n",
        "    \n",
        "      if it % iteration_per_epoch == 0:\n",
        "        train_acc = (self.predict(X_batch) == Y_batch).mean()\n",
        "        val_acc = (self.predict(X_val) == Y_val).mean()\n",
        "        train_acc_hist.append(train_acc)\n",
        "        val_acc_hist.append(val_acc)\n",
        "\n",
        "        self.alpha *= 0.95\n",
        "    \n",
        "    return {\n",
        "        'loss_hist': loss_hist,\n",
        "        'train_acc_hist': train_acc_hist,\n",
        "        'val_acc_hist': val_acc_hist\n",
        "    }\n",
        "\n",
        "  def relu(self, z):\n",
        "    return np.maximum(0, z)\n",
        "  \n",
        "  def predict(self, X):\n",
        "    Y_pred = None\n",
        "    layer1 = self.relu(X.dot(self.w1) + self.b1)\n",
        "    scores = layer1.dot(self.w2) + self.b2\n",
        "    Y_pred = np.argmax(scores, axis=1)\n",
        "    return Y_pred\n",
        "\n",
        "  def loss(self, X, Y = None):\n",
        "    N, D = X.shape\n",
        "\n",
        "    # Calculate for the loss of layer 1\n",
        "    layer1 = self.relu(X.dot(self.w1) + self.b1)\n",
        "    scores = layer1.dot(self.w2) + self.b2\n",
        "\n",
        "    if (Y is None):\n",
        "      return scores\n",
        "\n",
        "    # Calculate the actual loss\n",
        "    scores -= scores.max()\n",
        "    scores = np.exp(scores)\n",
        "    scores_sumexp = np.sum(scores, axis=1)\n",
        "    softmax = scores / scores_sumexp.reshape(N, 1)\n",
        "    loss = -1.0 * np.sum(np.log(softmax[range(N), Y]))\n",
        "    loss /= N\n",
        "\n",
        "    grads = {}\n",
        "    correct_class_scores = scores[range(N), Y]\n",
        "    softmax[range(N), Y] = -1.0 * (scores_sumexp - correct_class_scores) / scores_sumexp\n",
        "    softmax /= N\n",
        "\n",
        "    grads['w2'] = layer1.T.dot(softmax)\n",
        "    grads['b2'] = np.sum(softmax, axis=0)\n",
        "\n",
        "    hidden = softmax.dot(self.w2.T)\n",
        "\n",
        "    grads['w1'] = X.T.dot(hidden)\n",
        "    grads['b1'] = np.sum(hidden, axis=0)\n",
        "\n",
        "    return loss, grads"
      ],
      "execution_count": 0,
      "outputs": []
    },
    {
      "cell_type": "code",
      "metadata": {
        "id": "i0G1Z3cflgFL",
        "colab_type": "code",
        "colab": {
          "base_uri": "https://localhost:8080/",
          "height": 857
        },
        "outputId": "ce577386-2462-4196-95c9-69f75a2914d3"
      },
      "source": [
        "nn = NeuralNetwork()\n",
        "stats = nn.train(X_dev, Y_dev, X_val, Y_val)"
      ],
      "execution_count": 7,
      "outputs": [
        {
          "output_type": "stream",
          "text": [
            "iteration: 0 / 500 | Loss: 1.386294\n",
            "iteration: 10 / 500 | Loss: 1.386294\n",
            "iteration: 20 / 500 | Loss: 1.386294\n",
            "iteration: 30 / 500 | Loss: 1.386294\n",
            "iteration: 40 / 500 | Loss: 1.386294\n",
            "iteration: 50 / 500 | Loss: 1.386295\n",
            "iteration: 60 / 500 | Loss: 1.386295\n",
            "iteration: 70 / 500 | Loss: 1.386293\n",
            "iteration: 80 / 500 | Loss: 1.386294\n",
            "iteration: 90 / 500 | Loss: 1.386295\n",
            "iteration: 100 / 500 | Loss: 1.386294\n",
            "iteration: 110 / 500 | Loss: 1.386295\n",
            "iteration: 120 / 500 | Loss: 1.386294\n",
            "iteration: 130 / 500 | Loss: 1.386295\n",
            "iteration: 140 / 500 | Loss: 1.386295\n",
            "iteration: 150 / 500 | Loss: 1.386295\n",
            "iteration: 160 / 500 | Loss: 1.386294\n",
            "iteration: 170 / 500 | Loss: 1.386295\n",
            "iteration: 180 / 500 | Loss: 1.386294\n",
            "iteration: 190 / 500 | Loss: 1.386295\n",
            "iteration: 200 / 500 | Loss: 1.386293\n",
            "iteration: 210 / 500 | Loss: 1.386293\n",
            "iteration: 220 / 500 | Loss: 1.386291\n",
            "iteration: 230 / 500 | Loss: 1.386294\n",
            "iteration: 240 / 500 | Loss: 1.386294\n",
            "iteration: 250 / 500 | Loss: 1.386295\n",
            "iteration: 260 / 500 | Loss: 1.386292\n",
            "iteration: 270 / 500 | Loss: 1.386293\n",
            "iteration: 280 / 500 | Loss: 1.386295\n",
            "iteration: 290 / 500 | Loss: 1.386294\n",
            "iteration: 300 / 500 | Loss: 1.386294\n",
            "iteration: 310 / 500 | Loss: 1.386295\n",
            "iteration: 320 / 500 | Loss: 1.386293\n",
            "iteration: 330 / 500 | Loss: 1.386296\n",
            "iteration: 340 / 500 | Loss: 1.386293\n",
            "iteration: 350 / 500 | Loss: 1.386293\n",
            "iteration: 360 / 500 | Loss: 1.386294\n",
            "iteration: 370 / 500 | Loss: 1.386293\n",
            "iteration: 380 / 500 | Loss: 1.386293\n",
            "iteration: 390 / 500 | Loss: 1.386294\n",
            "iteration: 400 / 500 | Loss: 1.386295\n",
            "iteration: 410 / 500 | Loss: 1.386292\n",
            "iteration: 420 / 500 | Loss: 1.386295\n",
            "iteration: 430 / 500 | Loss: 1.386292\n",
            "iteration: 440 / 500 | Loss: 1.386294\n",
            "iteration: 450 / 500 | Loss: 1.386297\n",
            "iteration: 460 / 500 | Loss: 1.386293\n",
            "iteration: 470 / 500 | Loss: 1.386294\n",
            "iteration: 480 / 500 | Loss: 1.386293\n",
            "iteration: 490 / 500 | Loss: 1.386296\n"
          ],
          "name": "stdout"
        }
      ]
    },
    {
      "cell_type": "code",
      "metadata": {
        "id": "qWVSan2ulm4c",
        "colab_type": "code",
        "colab": {
          "base_uri": "https://localhost:8080/",
          "height": 34
        },
        "outputId": "becef24b-8c5f-4156-ce53-5ba81ce81d2f"
      },
      "source": [
        "print((nn.predict(X_test) == Y_test).mean())"
      ],
      "execution_count": 8,
      "outputs": [
        {
          "output_type": "stream",
          "text": [
            "0.25\n"
          ],
          "name": "stdout"
        }
      ]
    },
    {
      "cell_type": "code",
      "metadata": {
        "id": "ynmcV49XlqJq",
        "colab_type": "code",
        "colab": {
          "base_uri": "https://localhost:8080/",
          "height": 385
        },
        "outputId": "473b7a6e-b851-4961-c3d0-58e8ed8da8ee"
      },
      "source": [
        "index = np.flatnonzero(0 == Y_train)\n",
        "index = np.random.choice(index, 1, replace=False)\n",
        "prediction = nn.predict(X_train[index])\n",
        "\n",
        "plt.subplot(1, 2, 1)\n",
        "plt.title('{} | {}'.format(classes[0], classes[prediction[0]]))\n",
        "plt.imshow(X_train[index].reshape(image_width, image_height, image_channel).astype('uint8'))\n",
        "\n",
        "index = np.flatnonzero(1 == Y_train)\n",
        "index = np.random.choice(index, 1, replace=False)\n",
        "prediction = nn.predict(X_train[index])\n",
        "\n",
        "plt.subplot(1, 2, 2)\n",
        "plt.title('{} | {}'.format(classes[1], classes[prediction[0]]))\n",
        "plt.imshow(X_train[index].reshape(image_width, image_height, image_channel).astype('uint8'))\n"
      ],
      "execution_count": 9,
      "outputs": [
        {
          "output_type": "execute_result",
          "data": {
            "text/plain": [
              "<matplotlib.image.AxesImage at 0x7f9e2484a748>"
            ]
          },
          "metadata": {
            "tags": []
          },
          "execution_count": 9
        },
        {
          "output_type": "display_data",
          "data": {
            "image/png": "[encoded data removed]",
            "text/plain": [
              "<Figure size 864x576 with 2 Axes>"
            ]
          },
          "metadata": {
            "tags": []
          }
        }
      ]
    }
  ]
}